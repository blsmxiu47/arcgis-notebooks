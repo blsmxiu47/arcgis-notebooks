{
 "cells": [
  {
   "cell_type": "code",
   "execution_count": 1,
   "id": "935597ef",
   "metadata": {},
   "outputs": [],
   "source": [
    "from arcgis.gis import GIS"
   ]
  },
  {
   "cell_type": "code",
   "execution_count": 2,
   "id": "9bd2f557",
   "metadata": {},
   "outputs": [],
   "source": [
    "gis = GIS()"
   ]
  },
  {
   "cell_type": "code",
   "execution_count": 39,
   "id": "bdf0c28c",
   "metadata": {},
   "outputs": [
    {
     "data": {
      "application/vnd.jupyter.widget-view+json": {
       "model_id": "b5aaac90d4aa4b1eb802e293884f6155",
       "version_major": 2,
       "version_minor": 0
      },
      "text/plain": [
       "MapView(layout=Layout(height='400px', width='100%'))"
      ]
     },
     "metadata": {},
     "output_type": "display_data"
    },
    {
     "data": {
      "text/html": [
       "<div class=\"map-static-img-preview-2fec78fe-2a25-41a3-9518-449956546cbf\"><img src=\"\"></img></div>"
      ],
      "text/plain": [
       "<IPython.core.display.HTML object>"
      ]
     },
     "metadata": {},
     "output_type": "display_data"
    },
    {
     "data": {
      "text/html": [
       "<div class=\"map-html-embed-preview-2fec78fe-2a25-41a3-9518-449956546cbf\"></div>"
      ],
      "text/plain": [
       "<IPython.core.display.HTML object>"
      ]
     },
     "metadata": {},
     "output_type": "display_data"
    }
   ],
   "source": [
    "map = gis.map('Seattle,WA')\n",
    "map"
   ]
  },
  {
   "cell_type": "code",
   "execution_count": 40,
   "id": "eb863292",
   "metadata": {},
   "outputs": [],
   "source": [
    "map.center=[47.796473, -123.700526]"
   ]
  },
  {
   "cell_type": "code",
   "execution_count": 42,
   "id": "8a9f0abb",
   "metadata": {},
   "outputs": [],
   "source": [
    "map.zoom=9"
   ]
  },
  {
   "cell_type": "code",
   "execution_count": 43,
   "id": "e75ade77",
   "metadata": {},
   "outputs": [],
   "source": [
    "map.basemap='topo-vector'"
   ]
  },
  {
   "cell_type": "code",
   "execution_count": 44,
   "id": "3a097b10",
   "metadata": {},
   "outputs": [
    {
     "data": {
      "text/plain": [
       "['dark-gray',\n",
       " 'dark-gray-vector',\n",
       " 'gray',\n",
       " 'gray-vector',\n",
       " 'hybrid',\n",
       " 'national-geographic',\n",
       " 'oceans',\n",
       " 'osm',\n",
       " 'satellite',\n",
       " 'streets',\n",
       " 'streets-navigation-vector',\n",
       " 'streets-night-vector',\n",
       " 'streets-relief-vector',\n",
       " 'streets-vector',\n",
       " 'terrain',\n",
       " 'topo',\n",
       " 'topo-vector']"
      ]
     },
     "execution_count": 44,
     "metadata": {},
     "output_type": "execute_result"
    }
   ],
   "source": [
    "map.basemaps"
   ]
  },
  {
   "cell_type": "code",
   "execution_count": 45,
   "id": "9af01aa5",
   "metadata": {},
   "outputs": [
    {
     "data": {
      "text/plain": [
       "[<Item title:\"Olympic National Park Boundaries\" type:Feature Layer Collection owner:ruehmann@wisc.edu_UW_Mad>,\n",
       " <Item title:\"Olympic National Park Features\" type:Feature Layer Collection owner:ruehmann@wisc.edu_UW_Mad>,\n",
       " <Item title:\"Olympic National Park Roads\" type:Feature Layer Collection owner:ruehmann@wisc.edu_UW_Mad>,\n",
       " <Item title:\"NPS Buildings\" type:Feature Layer Collection owner:ruehmann@wisc.edu_UW_Mad>,\n",
       " <Item title:\"Olympic National Park Rivers\" type:Feature Layer Collection owner:ruehmann@wisc.edu_UW_Mad>,\n",
       " <Item title:\"Olympic National Park Trails\" type:Feature Layer Collection owner:ruehmann@wisc.edu_UW_Mad>]"
      ]
     },
     "execution_count": 45,
     "metadata": {},
     "output_type": "execute_result"
    }
   ],
   "source": [
    "content = gis.content.search(query='Olympic National Park Features owner: ruehmann@wisc.edu_UW_Mad',\n",
    "                             item_type='Feature Layer', \n",
    "                             max_items=15)\n",
    "content"
   ]
  },
  {
   "cell_type": "markdown",
   "id": "4974b4f5",
   "metadata": {},
   "source": [
    "*Note these are not layers I have created. All credit to the owner(s)*"
   ]
  },
  {
   "cell_type": "code",
   "execution_count": 46,
   "id": "335a9a95",
   "metadata": {},
   "outputs": [],
   "source": [
    "layers = content[:3] + content[-2:]\n",
    "for l in layers:\n",
    "    map.add_layer(l)"
   ]
  }
 ],
 "metadata": {
  "kernelspec": {
   "display_name": "arcgis",
   "language": "python",
   "name": "arcgis"
  },
  "language_info": {
   "codemirror_mode": {
    "name": "ipython",
    "version": 3
   },
   "file_extension": ".py",
   "mimetype": "text/x-python",
   "name": "python",
   "nbconvert_exporter": "python",
   "pygments_lexer": "ipython3",
   "version": "3.7.11"
  }
 },
 "nbformat": 4,
 "nbformat_minor": 5
}
