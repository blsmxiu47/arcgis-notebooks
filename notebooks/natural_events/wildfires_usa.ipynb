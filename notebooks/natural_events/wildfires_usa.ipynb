{
 "cells": [
  {
   "cell_type": "code",
   "execution_count": 16,
   "id": "10378a13",
   "metadata": {},
   "outputs": [],
   "source": [
    "import fiona\n",
    "from arcgis.features import GeoAccessor, GeoSeriesAccessor\n",
    "from arcgis.gis import GIS\n",
    "\n",
    "import pandas as pd\n",
    "import numpy as np\n",
    "from numpy.polynomial import Polynomial\n",
    "from matplotlib import pyplot as plt\n",
    "\n",
    "plt.style.use('seaborn-darkgrid')\n",
    "\n",
    "gdb_path = 'downloads\\RDS-2013-0009.5_GDB\\Data\\FPA_FOD_20210617.gdb'"
   ]
  },
  {
   "cell_type": "code",
   "execution_count": 2,
   "id": "e7918c11",
   "metadata": {},
   "outputs": [
    {
     "data": {
      "text/plain": [
       "['Fires', 'NWCG_UnitIdActive_20200123']"
      ]
     },
     "execution_count": 2,
     "metadata": {},
     "output_type": "execute_result"
    }
   ],
   "source": [
    "fiona.listlayers(gdb_path)"
   ]
  },
  {
   "cell_type": "code",
   "execution_count": 3,
   "id": "35f02e8f",
   "metadata": {},
   "outputs": [],
   "source": [
    "gis = GIS()"
   ]
  },
  {
   "cell_type": "code",
   "execution_count": 4,
   "id": "2695747f",
   "metadata": {},
   "outputs": [
    {
     "name": "stdout",
     "output_type": "stream",
     "text": [
      "(2166753, 38)\n"
     ]
    },
    {
     "data": {
      "text/html": [
       "<div>\n",
       "<style scoped>\n",
       "    .dataframe tbody tr th:only-of-type {\n",
       "        vertical-align: middle;\n",
       "    }\n",
       "\n",
       "    .dataframe tbody tr th {\n",
       "        vertical-align: top;\n",
       "    }\n",
       "\n",
       "    .dataframe thead th {\n",
       "        text-align: right;\n",
       "    }\n",
       "</style>\n",
       "<table border=\"1\" class=\"dataframe\">\n",
       "  <thead>\n",
       "    <tr style=\"text-align: right;\">\n",
       "      <th></th>\n",
       "      <th>FOD_ID</th>\n",
       "      <th>FPA_ID</th>\n",
       "      <th>SOURCE_SYSTEM_TYPE</th>\n",
       "      <th>SOURCE_SYSTEM</th>\n",
       "      <th>NWCG_REPORTING_AGENCY</th>\n",
       "      <th>NWCG_REPORTING_UNIT_ID</th>\n",
       "      <th>NWCG_REPORTING_UNIT_NAME</th>\n",
       "      <th>SOURCE_REPORTING_UNIT</th>\n",
       "      <th>SOURCE_REPORTING_UNIT_NAME</th>\n",
       "      <th>LOCAL_FIRE_REPORT_ID</th>\n",
       "      <th>...</th>\n",
       "      <th>FIRE_SIZE</th>\n",
       "      <th>FIRE_SIZE_CLASS</th>\n",
       "      <th>LATITUDE</th>\n",
       "      <th>LONGITUDE</th>\n",
       "      <th>OWNER_DESCR</th>\n",
       "      <th>STATE</th>\n",
       "      <th>COUNTY</th>\n",
       "      <th>FIPS_CODE</th>\n",
       "      <th>FIPS_NAME</th>\n",
       "      <th>SHAPE</th>\n",
       "    </tr>\n",
       "  </thead>\n",
       "  <tbody>\n",
       "    <tr>\n",
       "      <th>0</th>\n",
       "      <td>1</td>\n",
       "      <td>FS-1418826</td>\n",
       "      <td>FED</td>\n",
       "      <td>FS-FIRESTAT</td>\n",
       "      <td>FS</td>\n",
       "      <td>USCAPNF</td>\n",
       "      <td>Plumas National Forest</td>\n",
       "      <td>0511</td>\n",
       "      <td>Plumas National Forest</td>\n",
       "      <td>1</td>\n",
       "      <td>...</td>\n",
       "      <td>0.10</td>\n",
       "      <td>A</td>\n",
       "      <td>40.036944</td>\n",
       "      <td>-121.005833</td>\n",
       "      <td>USFS</td>\n",
       "      <td>CA</td>\n",
       "      <td>63</td>\n",
       "      <td>06063</td>\n",
       "      <td>Plumas County</td>\n",
       "      <td>{\"x\": -121.00583332999992, \"y\": 40.03694444000...</td>\n",
       "    </tr>\n",
       "    <tr>\n",
       "      <th>1</th>\n",
       "      <td>2</td>\n",
       "      <td>FS-1418827</td>\n",
       "      <td>FED</td>\n",
       "      <td>FS-FIRESTAT</td>\n",
       "      <td>FS</td>\n",
       "      <td>USCAENF</td>\n",
       "      <td>Eldorado National Forest</td>\n",
       "      <td>0503</td>\n",
       "      <td>Eldorado National Forest</td>\n",
       "      <td>13</td>\n",
       "      <td>...</td>\n",
       "      <td>0.25</td>\n",
       "      <td>A</td>\n",
       "      <td>38.933056</td>\n",
       "      <td>-120.404444</td>\n",
       "      <td>USFS</td>\n",
       "      <td>CA</td>\n",
       "      <td>61</td>\n",
       "      <td>06061</td>\n",
       "      <td>Placer County</td>\n",
       "      <td>{\"x\": -120.40444444000002, \"y\": 38.93305556000...</td>\n",
       "    </tr>\n",
       "    <tr>\n",
       "      <th>2</th>\n",
       "      <td>3</td>\n",
       "      <td>FS-1418835</td>\n",
       "      <td>FED</td>\n",
       "      <td>FS-FIRESTAT</td>\n",
       "      <td>FS</td>\n",
       "      <td>USCAENF</td>\n",
       "      <td>Eldorado National Forest</td>\n",
       "      <td>0503</td>\n",
       "      <td>Eldorado National Forest</td>\n",
       "      <td>27</td>\n",
       "      <td>...</td>\n",
       "      <td>0.10</td>\n",
       "      <td>A</td>\n",
       "      <td>38.984167</td>\n",
       "      <td>-120.735556</td>\n",
       "      <td>STATE OR PRIVATE</td>\n",
       "      <td>CA</td>\n",
       "      <td>17</td>\n",
       "      <td>06017</td>\n",
       "      <td>El Dorado County</td>\n",
       "      <td>{\"x\": -120.73555555999997, \"y\": 38.98416667000...</td>\n",
       "    </tr>\n",
       "    <tr>\n",
       "      <th>3</th>\n",
       "      <td>4</td>\n",
       "      <td>FS-1418845</td>\n",
       "      <td>FED</td>\n",
       "      <td>FS-FIRESTAT</td>\n",
       "      <td>FS</td>\n",
       "      <td>USCAENF</td>\n",
       "      <td>Eldorado National Forest</td>\n",
       "      <td>0503</td>\n",
       "      <td>Eldorado National Forest</td>\n",
       "      <td>43</td>\n",
       "      <td>...</td>\n",
       "      <td>0.10</td>\n",
       "      <td>A</td>\n",
       "      <td>38.559167</td>\n",
       "      <td>-119.913333</td>\n",
       "      <td>USFS</td>\n",
       "      <td>CA</td>\n",
       "      <td>3</td>\n",
       "      <td>06003</td>\n",
       "      <td>Alpine County</td>\n",
       "      <td>{\"x\": -119.91333333, \"y\": 38.55916667000014, \"...</td>\n",
       "    </tr>\n",
       "    <tr>\n",
       "      <th>4</th>\n",
       "      <td>5</td>\n",
       "      <td>FS-1418847</td>\n",
       "      <td>FED</td>\n",
       "      <td>FS-FIRESTAT</td>\n",
       "      <td>FS</td>\n",
       "      <td>USCAENF</td>\n",
       "      <td>Eldorado National Forest</td>\n",
       "      <td>0503</td>\n",
       "      <td>Eldorado National Forest</td>\n",
       "      <td>44</td>\n",
       "      <td>...</td>\n",
       "      <td>0.10</td>\n",
       "      <td>A</td>\n",
       "      <td>38.559167</td>\n",
       "      <td>-119.933056</td>\n",
       "      <td>USFS</td>\n",
       "      <td>CA</td>\n",
       "      <td>3</td>\n",
       "      <td>06003</td>\n",
       "      <td>Alpine County</td>\n",
       "      <td>{\"x\": -119.93305555999996, \"y\": 38.55916667000...</td>\n",
       "    </tr>\n",
       "  </tbody>\n",
       "</table>\n",
       "<p>5 rows × 38 columns</p>\n",
       "</div>"
      ],
      "text/plain": [
       "   FOD_ID      FPA_ID SOURCE_SYSTEM_TYPE SOURCE_SYSTEM NWCG_REPORTING_AGENCY  \\\n",
       "0       1  FS-1418826                FED   FS-FIRESTAT                    FS   \n",
       "1       2  FS-1418827                FED   FS-FIRESTAT                    FS   \n",
       "2       3  FS-1418835                FED   FS-FIRESTAT                    FS   \n",
       "3       4  FS-1418845                FED   FS-FIRESTAT                    FS   \n",
       "4       5  FS-1418847                FED   FS-FIRESTAT                    FS   \n",
       "\n",
       "  NWCG_REPORTING_UNIT_ID  NWCG_REPORTING_UNIT_NAME SOURCE_REPORTING_UNIT  \\\n",
       "0                USCAPNF    Plumas National Forest                  0511   \n",
       "1                USCAENF  Eldorado National Forest                  0503   \n",
       "2                USCAENF  Eldorado National Forest                  0503   \n",
       "3                USCAENF  Eldorado National Forest                  0503   \n",
       "4                USCAENF  Eldorado National Forest                  0503   \n",
       "\n",
       "  SOURCE_REPORTING_UNIT_NAME LOCAL_FIRE_REPORT_ID  ... FIRE_SIZE  \\\n",
       "0     Plumas National Forest                    1  ...      0.10   \n",
       "1   Eldorado National Forest                   13  ...      0.25   \n",
       "2   Eldorado National Forest                   27  ...      0.10   \n",
       "3   Eldorado National Forest                   43  ...      0.10   \n",
       "4   Eldorado National Forest                   44  ...      0.10   \n",
       "\n",
       "  FIRE_SIZE_CLASS   LATITUDE   LONGITUDE       OWNER_DESCR STATE COUNTY  \\\n",
       "0               A  40.036944 -121.005833              USFS    CA     63   \n",
       "1               A  38.933056 -120.404444              USFS    CA     61   \n",
       "2               A  38.984167 -120.735556  STATE OR PRIVATE    CA     17   \n",
       "3               A  38.559167 -119.913333              USFS    CA      3   \n",
       "4               A  38.559167 -119.933056              USFS    CA      3   \n",
       "\n",
       "  FIPS_CODE         FIPS_NAME  \\\n",
       "0     06063     Plumas County   \n",
       "1     06061     Placer County   \n",
       "2     06017  El Dorado County   \n",
       "3     06003     Alpine County   \n",
       "4     06003     Alpine County   \n",
       "\n",
       "                                               SHAPE  \n",
       "0  {\"x\": -121.00583332999992, \"y\": 40.03694444000...  \n",
       "1  {\"x\": -120.40444444000002, \"y\": 38.93305556000...  \n",
       "2  {\"x\": -120.73555555999997, \"y\": 38.98416667000...  \n",
       "3  {\"x\": -119.91333333, \"y\": 38.55916667000014, \"...  \n",
       "4  {\"x\": -119.93305555999996, \"y\": 38.55916667000...  \n",
       "\n",
       "[5 rows x 38 columns]"
      ]
     },
     "execution_count": 4,
     "metadata": {},
     "output_type": "execute_result"
    }
   ],
   "source": [
    "fires_sedf = pd.DataFrame.spatial.from_featureclass(gdb_path+'\\Fires')\n",
    "print(fires_sedf.shape)\n",
    "fires_sedf.head()"
   ]
  },
  {
   "cell_type": "code",
   "execution_count": 5,
   "id": "0f9d72c5",
   "metadata": {},
   "outputs": [
    {
     "data": {
      "text/plain": [
       "Index(['FOD_ID', 'FPA_ID', 'SOURCE_SYSTEM_TYPE', 'SOURCE_SYSTEM',\n",
       "       'NWCG_REPORTING_AGENCY', 'NWCG_REPORTING_UNIT_ID',\n",
       "       'NWCG_REPORTING_UNIT_NAME', 'SOURCE_REPORTING_UNIT',\n",
       "       'SOURCE_REPORTING_UNIT_NAME', 'LOCAL_FIRE_REPORT_ID',\n",
       "       'LOCAL_INCIDENT_ID', 'FIRE_CODE', 'FIRE_NAME',\n",
       "       'ICS_209_PLUS_INCIDENT_JOIN_ID', 'ICS_209_PLUS_COMPLEX_JOIN_ID',\n",
       "       'MTBS_ID', 'MTBS_FIRE_NAME', 'COMPLEX_NAME', 'FIRE_YEAR',\n",
       "       'DISCOVERY_DATE', 'DISCOVERY_DOY', 'DISCOVERY_TIME',\n",
       "       'NWCG_CAUSE_CLASSIFICATION', 'NWCG_GENERAL_CAUSE',\n",
       "       'NWCG_CAUSE_AGE_CATEGORY', 'CONT_DATE', 'CONT_DOY', 'CONT_TIME',\n",
       "       'FIRE_SIZE', 'FIRE_SIZE_CLASS', 'LATITUDE', 'LONGITUDE', 'OWNER_DESCR',\n",
       "       'STATE', 'COUNTY', 'FIPS_CODE', 'FIPS_NAME', 'SHAPE'],\n",
       "      dtype='object')"
      ]
     },
     "execution_count": 5,
     "metadata": {},
     "output_type": "execute_result"
    }
   ],
   "source": [
    "fires_sedf.columns"
   ]
  },
  {
   "cell_type": "code",
   "execution_count": 6,
   "id": "bcd38a37",
   "metadata": {},
   "outputs": [
    {
     "data": {
      "text/plain": [
       "Human                                      1680058\n",
       "Natural                                     312807\n",
       "Missing data/not specified/undetermined     173887\n",
       "Name: NWCG_CAUSE_CLASSIFICATION, dtype: int64"
      ]
     },
     "execution_count": 6,
     "metadata": {},
     "output_type": "execute_result"
    }
   ],
   "source": [
    "fires_sedf['NWCG_CAUSE_CLASSIFICATION'].value_counts()"
   ]
  },
  {
   "cell_type": "code",
   "execution_count": 7,
   "id": "89386656",
   "metadata": {},
   "outputs": [
    {
     "data": {
      "application/vnd.jupyter.widget-view+json": {
       "model_id": "58a48ac769d848fe983dc89cf3963485",
       "version_major": 2,
       "version_minor": 0
      },
      "text/plain": [
       "MapView(layout=Layout(height='400px', width='100%'))"
      ]
     },
     "metadata": {},
     "output_type": "display_data"
    },
    {
     "data": {
      "text/html": [
       "<div class=\"map-static-img-preview-b5ad83ff-9b83-4ee1-a616-e9a50f793838\"><img src=\"\"></img></div>"
      ],
      "text/plain": [
       "<IPython.core.display.HTML object>"
      ]
     },
     "metadata": {},
     "output_type": "display_data"
    },
    {
     "data": {
      "text/html": [
       "<div class=\"map-html-embed-preview-b5ad83ff-9b83-4ee1-a616-e9a50f793838\"></div>"
      ],
      "text/plain": [
       "<IPython.core.display.HTML object>"
      ]
     },
     "metadata": {},
     "output_type": "display_data"
    }
   ],
   "source": [
    "m1 = GIS().map('United States')\n",
    "m1"
   ]
  },
  {
   "cell_type": "code",
   "execution_count": 8,
   "id": "4791b889",
   "metadata": {},
   "outputs": [],
   "source": [
    "m1.zoom = 6\n",
    "m1.center = [47,-120]"
   ]
  },
  {
   "cell_type": "code",
   "execution_count": 9,
   "id": "983d7259",
   "metadata": {},
   "outputs": [
    {
     "data": {
      "text/plain": [
       "True"
      ]
     },
     "execution_count": 9,
     "metadata": {},
     "output_type": "execute_result"
    }
   ],
   "source": [
    "# All US, 2018. Takes a minute to render:\n",
    "# fires_sedf.loc[fires_sedf['FIRE_YEAR'] == 2018].spatial.plot(\n",
    "#     map_widget=m1,\n",
    "#     renderer_type='u',\n",
    "#     col='NWCG_CAUSE_CLASSIFICATION',\n",
    "#     symbol_type='simple',\n",
    "#     symbol_style='d',\n",
    "#     colors = 'prism',\n",
    "#     outline_color='prism_r',\n",
    "#     marker_size=8,\n",
    "#     line_width=0.5\n",
    "# )\n",
    "\n",
    "# WA only:\n",
    "fires_sedf.loc[(fires_sedf['FIRE_YEAR'] == 2018) & (fires_sedf['STATE'] == 'WA')].spatial.plot(\n",
    "    map_widget=m1,\n",
    "    renderer_type='u',\n",
    "    col='NWCG_CAUSE_CLASSIFICATION',\n",
    "    symbol_type='simple',\n",
    "    symbol_style='d',\n",
    "    marker_size=8,\n",
    "    line_width=0.5\n",
    ")"
   ]
  },
  {
   "cell_type": "code",
   "execution_count": 10,
   "id": "de8b2de6",
   "metadata": {},
   "outputs": [
    {
     "data": {
      "text/plain": [
       "FIRE_YEAR\n",
       "2014    70480\n",
       "2015    77275\n",
       "2016    81994\n",
       "2017    82279\n",
       "2018    80863\n",
       "dtype: int64"
      ]
     },
     "execution_count": 10,
     "metadata": {},
     "output_type": "execute_result"
    }
   ],
   "source": [
    "annual_fires = fires_sedf.groupby('FIRE_YEAR').size()\n",
    "annual_fires.tail()"
   ]
  },
  {
   "cell_type": "code",
   "execution_count": 11,
   "id": "53f85e3a",
   "metadata": {},
   "outputs": [],
   "source": [
    "x = annual_fires.index.to_numpy()\n",
    "y = annual_fires.values"
   ]
  },
  {
   "cell_type": "code",
   "execution_count": 12,
   "id": "aa8f9d48",
   "metadata": {},
   "outputs": [],
   "source": [
    "ls = Polynomial.fit(x, y, deg=1)"
   ]
  },
  {
   "cell_type": "code",
   "execution_count": 13,
   "id": "f2c734b0",
   "metadata": {},
   "outputs": [
    {
     "data": {
      "text/latex": [
       "$x \\mapsto \\text{80250.11111111102} + \\text{5550.444444444464}\\,\\left(\\text{-154.23076923076923} + \\text{0.07692307692307693}x\\right)$"
      ],
      "text/plain": [
       "Polynomial([80250.11111111,  5550.44444444], domain=[1992., 2018.], window=[-1.,  1.])"
      ]
     },
     "execution_count": 13,
     "metadata": {},
     "output_type": "execute_result"
    }
   ],
   "source": [
    "ls"
   ]
  },
  {
   "cell_type": "code",
   "execution_count": 14,
   "id": "19266477",
   "metadata": {},
   "outputs": [],
   "source": [
    "p = ls.fromroots([-1, 1])"
   ]
  },
  {
   "cell_type": "code",
   "execution_count": 17,
   "id": "549b4019",
   "metadata": {},
   "outputs": [
    {
     "data": {
      "image/png": "[encoded data removed]",
      "text/plain": [
       "<Figure size 720x432 with 1 Axes>"
      ]
     },
     "metadata": {},
     "output_type": "display_data"
    }
   ],
   "source": [
    "fig, ax = plt.subplots(figsize=(10,6))\n",
    "\n",
    "ax.bar(x, y, color=(.2,.2,.2))\n",
    "ls = np.polyfit(x, y, deg=1)\n",
    "ax.plot(x, x*ls[0] + ls[1], color='red', linewidth=5);\n",
    "\n",
    "plt.xticks(rotation=45)\n",
    "plt.xlabel('Year');\n",
    "plt.ylabel('Count of US Fires Recorded');\n",
    "plt.title('Annual US Fires', size=16);"
   ]
  }
 ],
 "metadata": {
  "kernelspec": {
   "display_name": "arcgis",
   "language": "python",
   "name": "arcgis"
  },
  "language_info": {
   "codemirror_mode": {
    "name": "ipython",
    "version": 3
   },
   "file_extension": ".py",
   "mimetype": "text/x-python",
   "name": "python",
   "nbconvert_exporter": "python",
   "pygments_lexer": "ipython3",
   "version": "3.8.12"
  }
 },
 "nbformat": 4,
 "nbformat_minor": 5
}
