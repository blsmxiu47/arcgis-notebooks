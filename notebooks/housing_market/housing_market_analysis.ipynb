{
 "cells": [
  {
   "cell_type": "markdown",
   "id": "8609a4c6",
   "metadata": {},
   "source": [
    "# US Housing/Rent Analysis: Zillow + ArcGIS API for Python)"
   ]
  },
  {
   "cell_type": "code",
   "execution_count": 37,
   "id": "53d307cb",
   "metadata": {},
   "outputs": [],
   "source": [
    "import os\n",
    "from dotenv import load_dotenv\n",
    "\n",
    "load_dotenv()\n",
    "\n",
    "# Set ArcGIS credentials, if applicable\n",
    "#  Either replace these variables here if only running locally or\n",
    "#  set in local .env file\n",
    "ARCGIS_USERNAME = os.environ['ARCGIS_USERNAME'] # Username for acount\n",
    "ARCGIS_PASSWORD = os.environ['ARCGIS_PASSWORD'] # Password for account\n",
    "ARCGIS_APP_CLIENT_ID = os.environ['ARCGIS_APP_CLIENT_ID'] # Client ID for OAuth\n",
    "ARCGIS_APP_CLIENT_SECRET = os.environ['ARCGIS_APP_CLIENT_SECRET'] # Client Secret for OAuth"
   ]
  },
  {
   "cell_type": "code",
   "execution_count": 38,
   "id": "c398d4fe",
   "metadata": {},
   "outputs": [],
   "source": [
    "import pandas as pd\n",
    "import matplotlib.pyplot as plt"
   ]
  },
  {
   "cell_type": "markdown",
   "id": "c08a7179",
   "metadata": {},
   "source": [
    "After importing initial packages, we'll start by looking at ZORI (Zillow Observed Rent Index). See [this Zillow documentation](https://www.zillow.com/research/methodology-zori-repeat-rent-27092/) for the methodology behind this index. \n",
    "\n",
    "Note - Unless otherwise specified the property and market data files are downloaded from [Zillow Research](https://www.zillow.com/research/data/). "
   ]
  },
  {
   "cell_type": "code",
   "execution_count": 39,
   "id": "ec11eab4",
   "metadata": {},
   "outputs": [
    {
     "data": {
      "text/html": [
       "<div>\n",
       "<style scoped>\n",
       "    .dataframe tbody tr th:only-of-type {\n",
       "        vertical-align: middle;\n",
       "    }\n",
       "\n",
       "    .dataframe tbody tr th {\n",
       "        vertical-align: top;\n",
       "    }\n",
       "\n",
       "    .dataframe thead th {\n",
       "        text-align: right;\n",
       "    }\n",
       "</style>\n",
       "<table border=\"1\" class=\"dataframe\">\n",
       "  <thead>\n",
       "    <tr style=\"text-align: right;\">\n",
       "      <th></th>\n",
       "      <th>RegionID</th>\n",
       "      <th>RegionName</th>\n",
       "      <th>SizeRank</th>\n",
       "      <th>2014-01</th>\n",
       "      <th>2014-02</th>\n",
       "      <th>2014-03</th>\n",
       "      <th>2014-04</th>\n",
       "      <th>2014-05</th>\n",
       "      <th>2014-06</th>\n",
       "      <th>2014-07</th>\n",
       "      <th>...</th>\n",
       "      <th>2021-03</th>\n",
       "      <th>2021-04</th>\n",
       "      <th>2021-05</th>\n",
       "      <th>2021-06</th>\n",
       "      <th>2021-07</th>\n",
       "      <th>2021-08</th>\n",
       "      <th>2021-09</th>\n",
       "      <th>2021-10</th>\n",
       "      <th>2021-11</th>\n",
       "      <th>2021-12</th>\n",
       "    </tr>\n",
       "  </thead>\n",
       "  <tbody>\n",
       "    <tr>\n",
       "      <th>0</th>\n",
       "      <td>102001</td>\n",
       "      <td>United States</td>\n",
       "      <td>0</td>\n",
       "      <td>1318.0</td>\n",
       "      <td>1324</td>\n",
       "      <td>1329.0</td>\n",
       "      <td>1334</td>\n",
       "      <td>1340</td>\n",
       "      <td>1345</td>\n",
       "      <td>1351</td>\n",
       "      <td>...</td>\n",
       "      <td>1723</td>\n",
       "      <td>1741</td>\n",
       "      <td>1761</td>\n",
       "      <td>1782</td>\n",
       "      <td>1803</td>\n",
       "      <td>1824</td>\n",
       "      <td>1845.0</td>\n",
       "      <td>1867.0</td>\n",
       "      <td>1889</td>\n",
       "      <td>1911</td>\n",
       "    </tr>\n",
       "    <tr>\n",
       "      <th>1</th>\n",
       "      <td>394913</td>\n",
       "      <td>New York, NY</td>\n",
       "      <td>1</td>\n",
       "      <td>4684.0</td>\n",
       "      <td>4705</td>\n",
       "      <td>4725.0</td>\n",
       "      <td>4746</td>\n",
       "      <td>4767</td>\n",
       "      <td>4787</td>\n",
       "      <td>4808</td>\n",
       "      <td>...</td>\n",
       "      <td>5214</td>\n",
       "      <td>5255</td>\n",
       "      <td>5310</td>\n",
       "      <td>5366</td>\n",
       "      <td>5421</td>\n",
       "      <td>5481</td>\n",
       "      <td>5541.0</td>\n",
       "      <td>5601.0</td>\n",
       "      <td>5664</td>\n",
       "      <td>5728</td>\n",
       "    </tr>\n",
       "    <tr>\n",
       "      <th>2</th>\n",
       "      <td>753899</td>\n",
       "      <td>Los Angeles-Long Beach-Anaheim, CA</td>\n",
       "      <td>2</td>\n",
       "      <td>1750.0</td>\n",
       "      <td>1761</td>\n",
       "      <td>1771.0</td>\n",
       "      <td>1782</td>\n",
       "      <td>1792</td>\n",
       "      <td>1803</td>\n",
       "      <td>1813</td>\n",
       "      <td>...</td>\n",
       "      <td>2423</td>\n",
       "      <td>2443</td>\n",
       "      <td>2468</td>\n",
       "      <td>2492</td>\n",
       "      <td>2516</td>\n",
       "      <td>2541</td>\n",
       "      <td>2566.0</td>\n",
       "      <td>2592.0</td>\n",
       "      <td>2618</td>\n",
       "      <td>2644</td>\n",
       "    </tr>\n",
       "    <tr>\n",
       "      <th>3</th>\n",
       "      <td>394463</td>\n",
       "      <td>Chicago, IL</td>\n",
       "      <td>3</td>\n",
       "      <td>1405.0</td>\n",
       "      <td>1409</td>\n",
       "      <td>1413.0</td>\n",
       "      <td>1416</td>\n",
       "      <td>1420</td>\n",
       "      <td>1423</td>\n",
       "      <td>1427</td>\n",
       "      <td>...</td>\n",
       "      <td>1634</td>\n",
       "      <td>1644</td>\n",
       "      <td>1656</td>\n",
       "      <td>1668</td>\n",
       "      <td>1680</td>\n",
       "      <td>1692</td>\n",
       "      <td>1705.0</td>\n",
       "      <td>1717.0</td>\n",
       "      <td>1731</td>\n",
       "      <td>1744</td>\n",
       "    </tr>\n",
       "    <tr>\n",
       "      <th>4</th>\n",
       "      <td>394514</td>\n",
       "      <td>Dallas-Fort Worth, TX</td>\n",
       "      <td>4</td>\n",
       "      <td>1128.0</td>\n",
       "      <td>1131</td>\n",
       "      <td>1135.0</td>\n",
       "      <td>1138</td>\n",
       "      <td>1142</td>\n",
       "      <td>1146</td>\n",
       "      <td>1149</td>\n",
       "      <td>...</td>\n",
       "      <td>1517</td>\n",
       "      <td>1536</td>\n",
       "      <td>1557</td>\n",
       "      <td>1578</td>\n",
       "      <td>1599</td>\n",
       "      <td>1621</td>\n",
       "      <td>1643.0</td>\n",
       "      <td>1665.0</td>\n",
       "      <td>1688</td>\n",
       "      <td>1710</td>\n",
       "    </tr>\n",
       "  </tbody>\n",
       "</table>\n",
       "<p>5 rows × 99 columns</p>\n",
       "</div>"
      ],
      "text/plain": [
       "   RegionID                          RegionName  SizeRank  2014-01  2014-02  \\\n",
       "0    102001                       United States         0   1318.0     1324   \n",
       "1    394913                        New York, NY         1   4684.0     4705   \n",
       "2    753899  Los Angeles-Long Beach-Anaheim, CA         2   1750.0     1761   \n",
       "3    394463                         Chicago, IL         3   1405.0     1409   \n",
       "4    394514               Dallas-Fort Worth, TX         4   1128.0     1131   \n",
       "\n",
       "   2014-03  2014-04  2014-05  2014-06  2014-07  ...  2021-03  2021-04  \\\n",
       "0   1329.0     1334     1340     1345     1351  ...     1723     1741   \n",
       "1   4725.0     4746     4767     4787     4808  ...     5214     5255   \n",
       "2   1771.0     1782     1792     1803     1813  ...     2423     2443   \n",
       "3   1413.0     1416     1420     1423     1427  ...     1634     1644   \n",
       "4   1135.0     1138     1142     1146     1149  ...     1517     1536   \n",
       "\n",
       "   2021-05  2021-06  2021-07  2021-08  2021-09  2021-10  2021-11  2021-12  \n",
       "0     1761     1782     1803     1824   1845.0   1867.0     1889     1911  \n",
       "1     5310     5366     5421     5481   5541.0   5601.0     5664     5728  \n",
       "2     2468     2492     2516     2541   2566.0   2592.0     2618     2644  \n",
       "3     1656     1668     1680     1692   1705.0   1717.0     1731     1744  \n",
       "4     1557     1578     1599     1621   1643.0   1665.0     1688     1710  \n",
       "\n",
       "[5 rows x 99 columns]"
      ]
     },
     "execution_count": 39,
     "metadata": {},
     "output_type": "execute_result"
    }
   ],
   "source": [
    "zori_df = pd.read_csv('raw_data\\Metro_ZORI_AllHomesPlusMultifamily_SSA.csv')\n",
    "zori_df.head()"
   ]
  },
  {
   "cell_type": "code",
   "execution_count": 40,
   "id": "1dc51858",
   "metadata": {},
   "outputs": [
    {
     "data": {
      "text/plain": [
       "Index(['RegionID', 'RegionName', 'SizeRank', '2014-01', '2014-02', '2014-03',\n",
       "       '2014-04', '2014-05', '2014-06', '2014-07', '2014-08', '2014-09',\n",
       "       '2014-10', '2014-11', '2014-12', '2015-01', '2015-02', '2015-03',\n",
       "       '2015-04', '2015-05', '2015-06', '2015-07', '2015-08', '2015-09',\n",
       "       '2015-10', '2015-11', '2015-12', '2016-01', '2016-02', '2016-03',\n",
       "       '2016-04', '2016-05', '2016-06', '2016-07', '2016-08', '2016-09',\n",
       "       '2016-10', '2016-11', '2016-12', '2017-01', '2017-02', '2017-03',\n",
       "       '2017-04', '2017-05', '2017-06', '2017-07', '2017-08', '2017-09',\n",
       "       '2017-10', '2017-11', '2017-12', '2018-01', '2018-02', '2018-03',\n",
       "       '2018-04', '2018-05', '2018-06', '2018-07', '2018-08', '2018-09',\n",
       "       '2018-10', '2018-11', '2018-12', '2019-01', '2019-02', '2019-03',\n",
       "       '2019-04', '2019-05', '2019-06', '2019-07', '2019-08', '2019-09',\n",
       "       '2019-10', '2019-11', '2019-12', '2020-01', '2020-02', '2020-03',\n",
       "       '2020-04', '2020-05', '2020-06', '2020-07', '2020-08', '2020-09',\n",
       "       '2020-10', '2020-11', '2020-12', '2021-01', '2021-02', '2021-03',\n",
       "       '2021-04', '2021-05', '2021-06', '2021-07', '2021-08', '2021-09',\n",
       "       '2021-10', '2021-11', '2021-12'],\n",
       "      dtype='object')"
      ]
     },
     "execution_count": 40,
     "metadata": {},
     "output_type": "execute_result"
    }
   ],
   "source": [
    "zori_df.columns"
   ]
  },
  {
   "cell_type": "code",
   "execution_count": 41,
   "id": "ff195588",
   "metadata": {},
   "outputs": [],
   "source": [
    "id_vars = list(zori_df.columns[:3])\n",
    "value_vars = list(zori_df.columns)[3:]"
   ]
  },
  {
   "cell_type": "markdown",
   "id": "6461074c",
   "metadata": {},
   "source": [
    "The downloaded format is useful for other things, but for now let's melt our df so that each row is an observation, and each column a variable.."
   ]
  },
  {
   "cell_type": "code",
   "execution_count": 42,
   "id": "b9e387ad",
   "metadata": {},
   "outputs": [
    {
     "data": {
      "text/html": [
       "<div>\n",
       "<style scoped>\n",
       "    .dataframe tbody tr th:only-of-type {\n",
       "        vertical-align: middle;\n",
       "    }\n",
       "\n",
       "    .dataframe tbody tr th {\n",
       "        vertical-align: top;\n",
       "    }\n",
       "\n",
       "    .dataframe thead th {\n",
       "        text-align: right;\n",
       "    }\n",
       "</style>\n",
       "<table border=\"1\" class=\"dataframe\">\n",
       "  <thead>\n",
       "    <tr style=\"text-align: right;\">\n",
       "      <th></th>\n",
       "      <th>RegionID</th>\n",
       "      <th>RegionName</th>\n",
       "      <th>SizeRank</th>\n",
       "      <th>YearMonth</th>\n",
       "      <th>ZORI</th>\n",
       "    </tr>\n",
       "  </thead>\n",
       "  <tbody>\n",
       "    <tr>\n",
       "      <th>0</th>\n",
       "      <td>102001</td>\n",
       "      <td>United States</td>\n",
       "      <td>0</td>\n",
       "      <td>2014-01</td>\n",
       "      <td>1318.0</td>\n",
       "    </tr>\n",
       "    <tr>\n",
       "      <th>1</th>\n",
       "      <td>394913</td>\n",
       "      <td>New York, NY</td>\n",
       "      <td>1</td>\n",
       "      <td>2014-01</td>\n",
       "      <td>4684.0</td>\n",
       "    </tr>\n",
       "    <tr>\n",
       "      <th>2</th>\n",
       "      <td>753899</td>\n",
       "      <td>Los Angeles-Long Beach-Anaheim, CA</td>\n",
       "      <td>2</td>\n",
       "      <td>2014-01</td>\n",
       "      <td>1750.0</td>\n",
       "    </tr>\n",
       "    <tr>\n",
       "      <th>3</th>\n",
       "      <td>394463</td>\n",
       "      <td>Chicago, IL</td>\n",
       "      <td>3</td>\n",
       "      <td>2014-01</td>\n",
       "      <td>1405.0</td>\n",
       "    </tr>\n",
       "    <tr>\n",
       "      <th>4</th>\n",
       "      <td>394514</td>\n",
       "      <td>Dallas-Fort Worth, TX</td>\n",
       "      <td>4</td>\n",
       "      <td>2014-01</td>\n",
       "      <td>1128.0</td>\n",
       "    </tr>\n",
       "  </tbody>\n",
       "</table>\n",
       "</div>"
      ],
      "text/plain": [
       "   RegionID                          RegionName  SizeRank YearMonth    ZORI\n",
       "0    102001                       United States         0   2014-01  1318.0\n",
       "1    394913                        New York, NY         1   2014-01  4684.0\n",
       "2    753899  Los Angeles-Long Beach-Anaheim, CA         2   2014-01  1750.0\n",
       "3    394463                         Chicago, IL         3   2014-01  1405.0\n",
       "4    394514               Dallas-Fort Worth, TX         4   2014-01  1128.0"
      ]
     },
     "execution_count": 42,
     "metadata": {},
     "output_type": "execute_result"
    }
   ],
   "source": [
    "zori_df = pd.melt(zori_df, id_vars=id_vars, value_vars=value_vars, var_name='YearMonth', value_name='ZORI')\n",
    "zori_df.head()"
   ]
  },
  {
   "cell_type": "markdown",
   "id": "970ada58",
   "metadata": {},
   "source": [
    "OK yup, 뭔가 되게 시원한 느낌이네 ^^"
   ]
  },
  {
   "cell_type": "markdown",
   "id": "adcad391",
   "metadata": {},
   "source": [
    "So now it's really easy to check filter, check different aggregation stats, etc.\n",
    "e.g..."
   ]
  },
  {
   "cell_type": "code",
   "execution_count": 43,
   "id": "72d1ff69",
   "metadata": {},
   "outputs": [
    {
     "name": "stdout",
     "output_type": "stream",
     "text": [
      "Dec 2021 mean ZORI for NY cities (New York, NY, Buffalo, NY, Rochester, NY, Albany, NY, Syracuse, NY):\n",
      "2184.4\n"
     ]
    }
   ],
   "source": [
    "ny_dec2021 = zori_df.loc[(zori_df['RegionName'].str.contains('NY')) & (zori_df['YearMonth']=='2021-12')]\n",
    "print(f\"Dec 2021 mean ZORI for NY cities ({', '.join(ny_dec2021['RegionName'].unique())}):\\n{ny_dec2021['ZORI'].mean()}\")"
   ]
  },
  {
   "cell_type": "code",
   "execution_count": 44,
   "id": "1fb5700b",
   "metadata": {},
   "outputs": [
    {
     "name": "stdout",
     "output_type": "stream",
     "text": [
      "btw, without NYC: 1298.5\n"
     ]
    }
   ],
   "source": [
    "print(f\"btw, without NYC: {ny_dec2021.loc[ny_dec2021['RegionName'] != 'New York, NY']['ZORI'].mean()}\")"
   ]
  },
  {
   "cell_type": "code",
   "execution_count": 45,
   "id": "75669571",
   "metadata": {},
   "outputs": [
    {
     "data": {
      "image/png": "[encoded data removed]",
      "text/plain": [
       "<Figure size 432x288 with 1 Axes>"
      ]
     },
     "metadata": {
      "needs_background": "light"
     },
     "output_type": "display_data"
    }
   ],
   "source": [
    "x = 'RegionName'\n",
    "y = 'ZORI'\n",
    "plt.bar(x=x, height=y, data=ny_dec2021)\n",
    "plt.axhline(y=ny_dec2021[y].mean(), color='r', linestyle='-')\n",
    "plt.xticks(rotation=45)\n",
    "plt.ylabel('ZORI')\n",
    "plt.title('Dec 2021 Zillow Observed Rent Index for Select NY Cities')\n",
    "plt.show()"
   ]
  },
  {
   "cell_type": "markdown",
   "id": "d609aadb",
   "metadata": {},
   "source": [
    "## Bring in ArcGIS for geos"
   ]
  },
  {
   "cell_type": "markdown",
   "id": "8833f5c6",
   "metadata": {},
   "source": [
    "If using an ArcGIS Developer account and have (or can create) an application that uses OAuth 2.0 credentials to access ArcGIS services. This is needed to access certain content, such as the ZIP code boundaries layer below."
   ]
  },
  {
   "cell_type": "code",
   "execution_count": 46,
   "id": "924b8810",
   "metadata": {
    "scrolled": false
   },
   "outputs": [],
   "source": [
    "from arcgis.gis import GIS"
   ]
  },
  {
   "cell_type": "code",
   "execution_count": 47,
   "id": "171cf6b6",
   "metadata": {},
   "outputs": [
    {
     "name": "stdout",
     "output_type": "stream",
     "text": [
      "Logged in as anonymous user to ArcGIS Online\n"
     ]
    }
   ],
   "source": [
    "# Authentication - Anonymous user\n",
    "gis = GIS()\n",
    "print(f'Logged in as anonymous user to {gis.properties.portalName}')"
   ]
  },
  {
   "cell_type": "code",
   "execution_count": 48,
   "id": "739870dd",
   "metadata": {},
   "outputs": [],
   "source": [
    "# Authentication - OAuth\n",
    "# client_gis = GIS(client_id=ARCGIS_APP_CLIENT_ID)"
   ]
  },
  {
   "cell_type": "code",
   "execution_count": 49,
   "id": "beec15fd",
   "metadata": {},
   "outputs": [],
   "source": [
    "# Authentication - Logging in as user\n",
    "# my_gis = GIS(\n",
    "#     username=ARCGIS_USERNAME,\n",
    "#     password=ARCGIS_PASSWORD\n",
    "# )\n",
    "# print(f'Logged in as: {my_gis.properties.user.username}')"
   ]
  },
  {
   "cell_type": "code",
   "execution_count": 50,
   "id": "ec110698",
   "metadata": {},
   "outputs": [
    {
     "data": {
      "text/html": [
       "<div class=\"item_container\" style=\"height: auto; overflow: hidden; border: 1px solid #cfcfcf; border-radius: 2px; background: #f6fafa; line-height: 1.21429em; padding: 10px;\">\n",
       "                    <div class=\"item_left\" style=\"width: 210px; float: left;\">\n",
       "                       <a href='https://www.arcgis.com/home/item.html?id=d6f7ee6129e241cc9b6f75978e47128b' target='_blank'>\n",
       "                        <img src='https://www.arcgis.com/sharing/rest//content/items/d6f7ee6129e241cc9b6f75978e47128b/info/thumbnail/thumbnail1621529828639.jpeg' class=\"itemThumbnail\">\n",
       "                       </a>\n",
       "                    </div>\n",
       "\n",
       "                    <div class=\"item_right\"     style=\"float: none; width: auto; overflow: hidden;\">\n",
       "                        <a href='https://www.arcgis.com/home/item.html?id=d6f7ee6129e241cc9b6f75978e47128b' target='_blank'><b>USA ZIP Code Areas</b>\n",
       "                        </a>\n",
       "                        <br/>This layer presents five-digit ZIP Code areas used by the U.S. Postal Service.<img src='https://www.arcgis.com/home/js/jsapi/esri/css/images/item_type_icons/featureshosted16.png' style=\"vertical-align:middle;\">Feature Layer Collection by esri_dm\n",
       "                        <br/>Last Modified: October 11, 2021\n",
       "                        <br/>0 comments, 215,157,881 views\n",
       "                    </div>\n",
       "                </div>\n",
       "                "
      ],
      "text/plain": [
       "<Item title:\"USA ZIP Code Areas\" type:Feature Layer Collection owner:esri_dm>"
      ]
     },
     "metadata": {},
     "output_type": "display_data"
    },
    {
     "data": {
      "text/html": [
       "<div class=\"item_container\" style=\"height: auto; overflow: hidden; border: 1px solid #cfcfcf; border-radius: 2px; background: #f6fafa; line-height: 1.21429em; padding: 10px;\">\n",
       "                    <div class=\"item_left\" style=\"width: 210px; float: left;\">\n",
       "                       <a href='https://www.arcgis.com/home/item.html?id=78778fe9e4244f71b8194122d1f228ae' target='_blank'>\n",
       "                        <img src='https://www.arcgis.com/sharing/rest//content/items/78778fe9e4244f71b8194122d1f228ae/info/thumbnail/thumbnail1529961181866.jpeg' class=\"itemThumbnail\">\n",
       "                       </a>\n",
       "                    </div>\n",
       "\n",
       "                    <div class=\"item_right\"     style=\"float: none; width: auto; overflow: hidden;\">\n",
       "                        <a href='https://www.arcgis.com/home/item.html?id=78778fe9e4244f71b8194122d1f228ae' target='_blank'><b>United States ZIP Code Boundaries 2017</b>\n",
       "                        </a>\n",
       "                        <br/>This layer shows the ZIP Code level boundaries of United States in 2017. The boundaries are optimized to improve Data Enrichment analysis performance.<img src='https://www.arcgis.com/home/js/jsapi/esri/css/images/item_type_icons/featureshosted16.png' style=\"vertical-align:middle;\">Feature Layer Collection by esri_dm\n",
       "                        <br/>Last Modified: August 18, 2021\n",
       "                        <br/>0 comments, 91,730 views\n",
       "                    </div>\n",
       "                </div>\n",
       "                "
      ],
      "text/plain": [
       "<Item title:\"United States ZIP Code Boundaries 2017\" type:Feature Layer Collection owner:esri_dm>"
      ]
     },
     "metadata": {},
     "output_type": "display_data"
    },
    {
     "data": {
      "text/html": [
       "<div class=\"item_container\" style=\"height: auto; overflow: hidden; border: 1px solid #cfcfcf; border-radius: 2px; background: #f6fafa; line-height: 1.21429em; padding: 10px;\">\n",
       "                    <div class=\"item_left\" style=\"width: 210px; float: left;\">\n",
       "                       <a href='https://www.arcgis.com/home/item.html?id=5203d33eed8b4611859a2d9dca8b604e' target='_blank'>\n",
       "                        <img src='https://www.arcgis.com/sharing/rest//content/items/5203d33eed8b4611859a2d9dca8b604e/info/thumbnail/zip_polys_2015.jpg' class=\"itemThumbnail\">\n",
       "                       </a>\n",
       "                    </div>\n",
       "\n",
       "                    <div class=\"item_right\"     style=\"float: none; width: auto; overflow: hidden;\">\n",
       "                        <a href='https://www.arcgis.com/home/item.html?id=5203d33eed8b4611859a2d9dca8b604e' target='_blank'><b>USA ZIP Codes (2015)</b>\n",
       "                        </a>\n",
       "                        <br/>This layer presents five-digit ZIP Code areas used by the U.S. Postal Service to deliver mail more effectively.<img src='https://www.arcgis.com/home/js/jsapi/esri/css/images/item_type_icons/featureshosted16.png' style=\"vertical-align:middle;\">Feature Layer Collection by esri_dm\n",
       "                        <br/>Last Modified: June 18, 2019\n",
       "                        <br/>0 comments, 213,711 views\n",
       "                    </div>\n",
       "                </div>\n",
       "                "
      ],
      "text/plain": [
       "<Item title:\"USA ZIP Codes (2015)\" type:Feature Layer Collection owner:esri_dm>"
      ]
     },
     "metadata": {},
     "output_type": "display_data"
    },
    {
     "data": {
      "text/html": [
       "<div class=\"item_container\" style=\"height: auto; overflow: hidden; border: 1px solid #cfcfcf; border-radius: 2px; background: #f6fafa; line-height: 1.21429em; padding: 10px;\">\n",
       "                    <div class=\"item_left\" style=\"width: 210px; float: left;\">\n",
       "                       <a href='https://www.arcgis.com/home/item.html?id=1cde4d444c0740ae9dc4565079782741' target='_blank'>\n",
       "                        <img src='https://www.arcgis.com/sharing/rest//content/items/1cde4d444c0740ae9dc4565079782741/info/thumbnail/usa_zip_codes.jpg' class=\"itemThumbnail\">\n",
       "                       </a>\n",
       "                    </div>\n",
       "\n",
       "                    <div class=\"item_right\"     style=\"float: none; width: auto; overflow: hidden;\">\n",
       "                        <a href='https://www.arcgis.com/home/item.html?id=1cde4d444c0740ae9dc4565079782741' target='_blank'><b>USA ZIP Codes (2014)</b>\n",
       "                        </a>\n",
       "                        <br/>This layer presents five-digit ZIP Code areas used by the U.S. Postal Service to deliver mail more effectively.<img src='https://www.arcgis.com/home/js/jsapi/esri/css/images/item_type_icons/featureshosted16.png' style=\"vertical-align:middle;\">Feature Layer Collection by esri_dm\n",
       "                        <br/>Last Modified: September 28, 2021\n",
       "                        <br/>0 comments, 419,794 views\n",
       "                    </div>\n",
       "                </div>\n",
       "                "
      ],
      "text/plain": [
       "<Item title:\"USA ZIP Codes (2014)\" type:Feature Layer Collection owner:esri_dm>"
      ]
     },
     "metadata": {},
     "output_type": "display_data"
    },
    {
     "data": {
      "text/html": [
       "<div class=\"item_container\" style=\"height: auto; overflow: hidden; border: 1px solid #cfcfcf; border-radius: 2px; background: #f6fafa; line-height: 1.21429em; padding: 10px;\">\n",
       "                    <div class=\"item_left\" style=\"width: 210px; float: left;\">\n",
       "                       <a href='https://www.arcgis.com/home/item.html?id=e4920148fce0481b96076e1683aae943' target='_blank'>\n",
       "                        <img src='https://www.arcgis.com/sharing/rest//content/items/e4920148fce0481b96076e1683aae943/info/thumbnail/thumbnail1578438293293.jpeg' class=\"itemThumbnail\">\n",
       "                       </a>\n",
       "                    </div>\n",
       "\n",
       "                    <div class=\"item_right\"     style=\"float: none; width: auto; overflow: hidden;\">\n",
       "                        <a href='https://www.arcgis.com/home/item.html?id=e4920148fce0481b96076e1683aae943' target='_blank'><b>United States County Boundaries 2018</b>\n",
       "                        </a>\n",
       "                        <br/>This layer shows the County level boundaries of United States in 2018. The boundaries are optimized to improve Data Enrichment analysis performance.<img src='https://www.arcgis.com/home/js/jsapi/esri/css/images/item_type_icons/featureshosted16.png' style=\"vertical-align:middle;\">Feature Layer Collection by esri_dm\n",
       "                        <br/>Last Modified: August 16, 2021\n",
       "                        <br/>0 comments, 15,525 views\n",
       "                    </div>\n",
       "                </div>\n",
       "                "
      ],
      "text/plain": [
       "<Item title:\"United States County Boundaries 2018\" type:Feature Layer Collection owner:esri_dm>"
      ]
     },
     "metadata": {},
     "output_type": "display_data"
    },
    {
     "data": {
      "text/html": [
       "<div class=\"item_container\" style=\"height: auto; overflow: hidden; border: 1px solid #cfcfcf; border-radius: 2px; background: #f6fafa; line-height: 1.21429em; padding: 10px;\">\n",
       "                    <div class=\"item_left\" style=\"width: 210px; float: left;\">\n",
       "                       <a href='https://www.arcgis.com/home/item.html?id=8432c8ab4cea42bebfc1c0a84ffe9878' target='_blank'>\n",
       "                        <img src='https://www.arcgis.com/sharing/rest//content/items/8432c8ab4cea42bebfc1c0a84ffe9878/info/thumbnail/thumbnail.JPEG' class=\"itemThumbnail\">\n",
       "                       </a>\n",
       "                    </div>\n",
       "\n",
       "                    <div class=\"item_right\"     style=\"float: none; width: auto; overflow: hidden;\">\n",
       "                        <a href='https://www.arcgis.com/home/item.html?id=8432c8ab4cea42bebfc1c0a84ffe9878' target='_blank'><b>USA ZIP Codes (2016)</b>\n",
       "                        </a>\n",
       "                        <br/>This layer presents five-digit ZIP Code areas used by the U.S. Postal Service to deliver mail more effectively.<img src='https://www.arcgis.com/home/js/jsapi/esri/css/images/item_type_icons/featureshosted16.png' style=\"vertical-align:middle;\">Feature Layer Collection by esri_dm\n",
       "                        <br/>Last Modified: September 28, 2021\n",
       "                        <br/>0 comments, 680,242 views\n",
       "                    </div>\n",
       "                </div>\n",
       "                "
      ],
      "text/plain": [
       "<Item title:\"USA ZIP Codes (2016)\" type:Feature Layer Collection owner:esri_dm>"
      ]
     },
     "metadata": {},
     "output_type": "display_data"
    },
    {
     "data": {
      "text/html": [
       "<div class=\"item_container\" style=\"height: auto; overflow: hidden; border: 1px solid #cfcfcf; border-radius: 2px; background: #f6fafa; line-height: 1.21429em; padding: 10px;\">\n",
       "                    <div class=\"item_left\" style=\"width: 210px; float: left;\">\n",
       "                       <a href='https://www.arcgis.com/home/item.html?id=9a43e9a3e2df4a159a57bcef5de96018' target='_blank'>\n",
       "                        <img src='https://www.arcgis.com/sharing/rest//content/items/9a43e9a3e2df4a159a57bcef5de96018/info/thumbnail/thumbnail1578437985171.jpeg' class=\"itemThumbnail\">\n",
       "                       </a>\n",
       "                    </div>\n",
       "\n",
       "                    <div class=\"item_right\"     style=\"float: none; width: auto; overflow: hidden;\">\n",
       "                        <a href='https://www.arcgis.com/home/item.html?id=9a43e9a3e2df4a159a57bcef5de96018' target='_blank'><b>United States State Boundaries 2018</b>\n",
       "                        </a>\n",
       "                        <br/>This layer shows the State level boundaries of United States in 2018. The boundaries are optimized to improve Data Enrichment analysis performance.<img src='https://www.arcgis.com/home/js/jsapi/esri/css/images/item_type_icons/featureshosted16.png' style=\"vertical-align:middle;\">Feature Layer Collection by esri_dm\n",
       "                        <br/>Last Modified: August 16, 2021\n",
       "                        <br/>1 comments, 1,877,086 views\n",
       "                    </div>\n",
       "                </div>\n",
       "                "
      ],
      "text/plain": [
       "<Item title:\"United States State Boundaries 2018\" type:Feature Layer Collection owner:esri_dm>"
      ]
     },
     "metadata": {},
     "output_type": "display_data"
    },
    {
     "data": {
      "text/html": [
       "<div class=\"item_container\" style=\"height: auto; overflow: hidden; border: 1px solid #cfcfcf; border-radius: 2px; background: #f6fafa; line-height: 1.21429em; padding: 10px;\">\n",
       "                    <div class=\"item_left\" style=\"width: 210px; float: left;\">\n",
       "                       <a href='https://www.arcgis.com/home/item.html?id=b267f0c4e50b40d3b2ec5a74e0ca6b61' target='_blank'>\n",
       "                        <img src='https://www.arcgis.com/sharing/rest//content/items/b267f0c4e50b40d3b2ec5a74e0ca6b61/info/thumbnail/usa_zip_codes.jpg' class=\"itemThumbnail\">\n",
       "                       </a>\n",
       "                    </div>\n",
       "\n",
       "                    <div class=\"item_right\"     style=\"float: none; width: auto; overflow: hidden;\">\n",
       "                        <a href='https://www.arcgis.com/home/item.html?id=b267f0c4e50b40d3b2ec5a74e0ca6b61' target='_blank'><b>USA ZIP Codes (2013)</b>\n",
       "                        </a>\n",
       "                        <br/>This layer presents five-digit ZIP Code areas used by the U.S. Postal Service to deliver mail more effectively.<img src='https://www.arcgis.com/home/js/jsapi/esri/css/images/item_type_icons/featureshosted16.png' style=\"vertical-align:middle;\">Feature Layer Collection by esri_dm\n",
       "                        <br/>Last Modified: June 18, 2019\n",
       "                        <br/>0 comments, 762,271 views\n",
       "                    </div>\n",
       "                </div>\n",
       "                "
      ],
      "text/plain": [
       "<Item title:\"USA ZIP Codes (2013)\" type:Feature Layer Collection owner:esri_dm>"
      ]
     },
     "metadata": {},
     "output_type": "display_data"
    },
    {
     "data": {
      "text/html": [
       "<div class=\"item_container\" style=\"height: auto; overflow: hidden; border: 1px solid #cfcfcf; border-radius: 2px; background: #f6fafa; line-height: 1.21429em; padding: 10px;\">\n",
       "                    <div class=\"item_left\" style=\"width: 210px; float: left;\">\n",
       "                       <a href='https://www.arcgis.com/home/item.html?id=ca1d6a908d9540c4a3d890e14a64999d' target='_blank'>\n",
       "                        <img src='https://www.arcgis.com/sharing/rest//content/items/ca1d6a908d9540c4a3d890e14a64999d/info/thumbnail/USA_County_bnd.jpg' class=\"itemThumbnail\">\n",
       "                       </a>\n",
       "                    </div>\n",
       "\n",
       "                    <div class=\"item_right\"     style=\"float: none; width: auto; overflow: hidden;\">\n",
       "                        <a href='https://www.arcgis.com/home/item.html?id=ca1d6a908d9540c4a3d890e14a64999d' target='_blank'><b>United States County Boundaries 2015</b>\n",
       "                        </a>\n",
       "                        <br/>This layer shows the County level boundaries of the United States in 2015. The boundaries are optimized to support both visualization and analysis.<img src='https://www.arcgis.com/home/js/jsapi/esri/css/images/item_type_icons/featureshosted16.png' style=\"vertical-align:middle;\">Feature Layer Collection by esri_dm\n",
       "                        <br/>Last Modified: August 17, 2021\n",
       "                        <br/>0 comments, 2,597 views\n",
       "                    </div>\n",
       "                </div>\n",
       "                "
      ],
      "text/plain": [
       "<Item title:\"United States County Boundaries 2015\" type:Feature Layer Collection owner:esri_dm>"
      ]
     },
     "metadata": {},
     "output_type": "display_data"
    },
    {
     "data": {
      "text/html": [
       "<div class=\"item_container\" style=\"height: auto; overflow: hidden; border: 1px solid #cfcfcf; border-radius: 2px; background: #f6fafa; line-height: 1.21429em; padding: 10px;\">\n",
       "                    <div class=\"item_left\" style=\"width: 210px; float: left;\">\n",
       "                       <a href='https://www.arcgis.com/home/item.html?id=73ebcea7393740daae5567d7877e0ca0' target='_blank'>\n",
       "                        <img src='https://www.arcgis.com/sharing/rest//content/items/73ebcea7393740daae5567d7877e0ca0/info/thumbnail/USA_State_bnd.jpg' class=\"itemThumbnail\">\n",
       "                       </a>\n",
       "                    </div>\n",
       "\n",
       "                    <div class=\"item_right\"     style=\"float: none; width: auto; overflow: hidden;\">\n",
       "                        <a href='https://www.arcgis.com/home/item.html?id=73ebcea7393740daae5567d7877e0ca0' target='_blank'><b>United States State Boundaries 2015</b>\n",
       "                        </a>\n",
       "                        <br/>This layer shows the State level boundaries of the United States in 2015. The boundaries are optimized to support both visualization and analysis.<img src='https://www.arcgis.com/home/js/jsapi/esri/css/images/item_type_icons/featureshosted16.png' style=\"vertical-align:middle;\">Feature Layer Collection by esri_dm\n",
       "                        <br/>Last Modified: August 17, 2021\n",
       "                        <br/>0 comments, 1,429 views\n",
       "                    </div>\n",
       "                </div>\n",
       "                "
      ],
      "text/plain": [
       "<Item title:\"United States State Boundaries 2015\" type:Feature Layer Collection owner:esri_dm>"
      ]
     },
     "metadata": {},
     "output_type": "display_data"
    },
    {
     "data": {
      "text/html": [
       "<div class=\"item_container\" style=\"height: auto; overflow: hidden; border: 1px solid #cfcfcf; border-radius: 2px; background: #f6fafa; line-height: 1.21429em; padding: 10px;\">\n",
       "                    <div class=\"item_left\" style=\"width: 210px; float: left;\">\n",
       "                       <a href='https://www.arcgis.com/home/item.html?id=04d7a4965eb447faacc51b9fcc7ff4ca' target='_blank'>\n",
       "                        <img src='https://www.arcgis.com/sharing/rest//content/items/04d7a4965eb447faacc51b9fcc7ff4ca/info/thumbnail/USA_Tracts_bnd.jpg' class=\"itemThumbnail\">\n",
       "                       </a>\n",
       "                    </div>\n",
       "\n",
       "                    <div class=\"item_right\"     style=\"float: none; width: auto; overflow: hidden;\">\n",
       "                        <a href='https://www.arcgis.com/home/item.html?id=04d7a4965eb447faacc51b9fcc7ff4ca' target='_blank'><b>United States Tract Boundaries 2015</b>\n",
       "                        </a>\n",
       "                        <br/>This layer shows the Tract level boundaries of the United States in 2015. The boundaries are optimized to support both visualization and analysis.<img src='https://www.arcgis.com/home/js/jsapi/esri/css/images/item_type_icons/featureshosted16.png' style=\"vertical-align:middle;\">Feature Layer Collection by esri_dm\n",
       "                        <br/>Last Modified: August 17, 2021\n",
       "                        <br/>0 comments, 952 views\n",
       "                    </div>\n",
       "                </div>\n",
       "                "
      ],
      "text/plain": [
       "<Item title:\"United States Tract Boundaries 2015\" type:Feature Layer Collection owner:esri_dm>"
      ]
     },
     "metadata": {},
     "output_type": "display_data"
    },
    {
     "data": {
      "text/html": [
       "<div class=\"item_container\" style=\"height: auto; overflow: hidden; border: 1px solid #cfcfcf; border-radius: 2px; background: #f6fafa; line-height: 1.21429em; padding: 10px;\">\n",
       "                    <div class=\"item_left\" style=\"width: 210px; float: left;\">\n",
       "                       <a href='https://www.arcgis.com/home/item.html?id=6afa39003be846d384013ae32da2afb6' target='_blank'>\n",
       "                        <img src='https://www.arcgis.com/sharing/rest//content/items/6afa39003be846d384013ae32da2afb6/info/thumbnail/thumbnail1529961232335.jpeg' class=\"itemThumbnail\">\n",
       "                       </a>\n",
       "                    </div>\n",
       "\n",
       "                    <div class=\"item_right\"     style=\"float: none; width: auto; overflow: hidden;\">\n",
       "                        <a href='https://www.arcgis.com/home/item.html?id=6afa39003be846d384013ae32da2afb6' target='_blank'><b>United States Tract Boundaries 2017</b>\n",
       "                        </a>\n",
       "                        <br/>This layer shows the Tract level boundaries of United States in 2017. The boundaries are optimized to improve Data Enrichment analysis performance.<img src='https://www.arcgis.com/home/js/jsapi/esri/css/images/item_type_icons/featureshosted16.png' style=\"vertical-align:middle;\">Feature Layer Collection by esri_dm\n",
       "                        <br/>Last Modified: August 18, 2021\n",
       "                        <br/>0 comments, 1,022 views\n",
       "                    </div>\n",
       "                </div>\n",
       "                "
      ],
      "text/plain": [
       "<Item title:\"United States Tract Boundaries 2017\" type:Feature Layer Collection owner:esri_dm>"
      ]
     },
     "metadata": {},
     "output_type": "display_data"
    },
    {
     "data": {
      "text/html": [
       "<div class=\"item_container\" style=\"height: auto; overflow: hidden; border: 1px solid #cfcfcf; border-radius: 2px; background: #f6fafa; line-height: 1.21429em; padding: 10px;\">\n",
       "                    <div class=\"item_left\" style=\"width: 210px; float: left;\">\n",
       "                       <a href='https://www.arcgis.com/home/item.html?id=b3bea54f4f8347649d0873edeebfc2d8' target='_blank'>\n",
       "                        <img src='https://www.arcgis.com/sharing/rest//content/items/b3bea54f4f8347649d0873edeebfc2d8/info/thumbnail/thumbnail1628034563700.jpeg' class=\"itemThumbnail\">\n",
       "                       </a>\n",
       "                    </div>\n",
       "\n",
       "                    <div class=\"item_right\"     style=\"float: none; width: auto; overflow: hidden;\">\n",
       "                        <a href='https://www.arcgis.com/home/item.html?id=b3bea54f4f8347649d0873edeebfc2d8' target='_blank'><b>United States Country Boundary 2020</b>\n",
       "                        </a>\n",
       "                        <br/>This layer shows the country boundary of United States in 2020. The boundaries are optimized to improve Data Enrichment analysis performance.<img src='https://www.arcgis.com/home/js/jsapi/esri/css/images/item_type_icons/featureshosted16.png' style=\"vertical-align:middle;\">Feature Layer Collection by esri_dm\n",
       "                        <br/>Last Modified: August 03, 2021\n",
       "                        <br/>0 comments, 4,480 views\n",
       "                    </div>\n",
       "                </div>\n",
       "                "
      ],
      "text/plain": [
       "<Item title:\"United States Country Boundary 2020\" type:Feature Layer Collection owner:esri_dm>"
      ]
     },
     "metadata": {},
     "output_type": "display_data"
    },
    {
     "data": {
      "text/html": [
       "<div class=\"item_container\" style=\"height: auto; overflow: hidden; border: 1px solid #cfcfcf; border-radius: 2px; background: #f6fafa; line-height: 1.21429em; padding: 10px;\">\n",
       "                    <div class=\"item_left\" style=\"width: 210px; float: left;\">\n",
       "                       <a href='https://www.arcgis.com/home/item.html?id=29434528c8e34da4a8b6bb7afd58368c' target='_blank'>\n",
       "                        <img src='https://www.arcgis.com/sharing/rest//content/items/29434528c8e34da4a8b6bb7afd58368c/info/thumbnail/USA_ZIP_Code_bnd.jpg' class=\"itemThumbnail\">\n",
       "                       </a>\n",
       "                    </div>\n",
       "\n",
       "                    <div class=\"item_right\"     style=\"float: none; width: auto; overflow: hidden;\">\n",
       "                        <a href='https://www.arcgis.com/home/item.html?id=29434528c8e34da4a8b6bb7afd58368c' target='_blank'><b>United States ZIP Code Boundaries 2015</b>\n",
       "                        </a>\n",
       "                        <br/>This layer shows the ZIP Code boundaries of the United States in 2015. The boundaries are optimized to support both visualization and analysis.<img src='https://www.arcgis.com/home/js/jsapi/esri/css/images/item_type_icons/featureshosted16.png' style=\"vertical-align:middle;\">Feature Layer Collection by esri_dm\n",
       "                        <br/>Last Modified: August 17, 2021\n",
       "                        <br/>0 comments, 2,681 views\n",
       "                    </div>\n",
       "                </div>\n",
       "                "
      ],
      "text/plain": [
       "<Item title:\"United States ZIP Code Boundaries 2015\" type:Feature Layer Collection owner:esri_dm>"
      ]
     },
     "metadata": {},
     "output_type": "display_data"
    },
    {
     "data": {
      "text/html": [
       "<div class=\"item_container\" style=\"height: auto; overflow: hidden; border: 1px solid #cfcfcf; border-radius: 2px; background: #f6fafa; line-height: 1.21429em; padding: 10px;\">\n",
       "                    <div class=\"item_left\" style=\"width: 210px; float: left;\">\n",
       "                       <a href='https://www.arcgis.com/home/item.html?id=a2e8c91172d54f47ab8b03b0cd80313f' target='_blank'>\n",
       "                        <img src='https://www.arcgis.com/sharing/rest//content/items/a2e8c91172d54f47ab8b03b0cd80313f/info/thumbnail/thumbnail1529961086378.jpeg' class=\"itemThumbnail\">\n",
       "                       </a>\n",
       "                    </div>\n",
       "\n",
       "                    <div class=\"item_right\"     style=\"float: none; width: auto; overflow: hidden;\">\n",
       "                        <a href='https://www.arcgis.com/home/item.html?id=a2e8c91172d54f47ab8b03b0cd80313f' target='_blank'><b>United States Block Group Boundaries 2017</b>\n",
       "                        </a>\n",
       "                        <br/>This layer shows the Block Group level boundaries of United States in 2017. The boundaries are optimized to improve Data Enrichment analysis performance.<img src='https://www.arcgis.com/home/js/jsapi/esri/css/images/item_type_icons/featureshosted16.png' style=\"vertical-align:middle;\">Feature Layer Collection by esri_dm\n",
       "                        <br/>Last Modified: August 18, 2021\n",
       "                        <br/>0 comments, 1,754 views\n",
       "                    </div>\n",
       "                </div>\n",
       "                "
      ],
      "text/plain": [
       "<Item title:\"United States Block Group Boundaries 2017\" type:Feature Layer Collection owner:esri_dm>"
      ]
     },
     "metadata": {},
     "output_type": "display_data"
    }
   ],
   "source": [
    "items = gis.content.search(\n",
    "    query='United States ZIP Code Boundaries owner: esri_dm',\n",
    "    item_type='Feature Layer',\n",
    "    max_items=15)\n",
    "from IPython.display import display\n",
    "\n",
    "for item in items:\n",
    "    display(item)"
   ]
  },
  {
   "cell_type": "code",
   "execution_count": 51,
   "id": "bea3b3ee",
   "metadata": {},
   "outputs": [],
   "source": [
    "# See https://developers.arcgis.com/documentation/mapping-apis-and-services/security/application-credentials/\n",
    "import requests\n",
    "\n",
    "client_credentials = {\n",
    "    'client_id': ARCGIS_APP_CLIENT_ID, # Set at top of notebook\n",
    "    'client_secret': ARCGIS_APP_CLIENT_SECRET, # Set at top of notebook\n",
    "    'grant_type': 'client_credentials'\n",
    "}\n",
    "\n",
    "def get_token():\n",
    "    params = client_credentials\n",
    "    request = requests.get('https://www.arcgis.com/sharing/rest/oauth2/token',\n",
    "                          params=params)\n",
    "    response = request.json()\n",
    "    token = response['access_token']\n",
    "    return token\n",
    "token = get_token()"
   ]
  },
  {
   "cell_type": "code",
   "execution_count": 53,
   "id": "7486e1cf",
   "metadata": {},
   "outputs": [],
   "source": [
    "import pprint\n",
    "\n",
    "url = 'https://services.arcgis.com/P3ePLMYs2RVChkJx/arcgis/rest/services/USA_Boundaries_2020/FeatureServer'\n",
    "params = {\n",
    "    'f': 'json',\n",
    "    'token': token\n",
    "}\n",
    "data = requests.get(url, params=params)\n",
    "# pprint.pprint(data.json())"
   ]
  }
 ],
 "metadata": {
  "kernelspec": {
   "display_name": "arcgis",
   "language": "python",
   "name": "arcgis"
  },
  "language_info": {
   "codemirror_mode": {
    "name": "ipython",
    "version": 3
   },
   "file_extension": ".py",
   "mimetype": "text/x-python",
   "name": "python",
   "nbconvert_exporter": "python",
   "pygments_lexer": "ipython3",
   "version": "3.7.11"
  }
 },
 "nbformat": 4,
 "nbformat_minor": 5
}
